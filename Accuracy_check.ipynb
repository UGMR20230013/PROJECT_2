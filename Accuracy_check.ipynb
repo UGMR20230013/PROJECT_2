{
  "nbformat": 4,
  "nbformat_minor": 0,
  "metadata": {
    "colab": {
      "provenance": [],
      "authorship_tag": "ABX9TyP/dbpE2yu0+GE+sdRw25h0",
      "include_colab_link": true
    },
    "kernelspec": {
      "name": "python3",
      "display_name": "Python 3"
    },
    "language_info": {
      "name": "python"
    }
  },
  "cells": [
    {
      "cell_type": "markdown",
      "metadata": {
        "id": "view-in-github",
        "colab_type": "text"
      },
      "source": [
        "<a href=\"https://colab.research.google.com/github/UGMR20230013/PROJECT_2/blob/main/Untitled3.ipynb\" target=\"_parent\"><img src=\"https://colab.research.google.com/assets/colab-badge.svg\" alt=\"Open In Colab\"/></a>"
      ]
    },
    {
      "cell_type": "code",
      "execution_count": null,
      "metadata": {
        "colab": {
          "base_uri": "https://localhost:8080/"
        },
        "id": "1opVtC8Azea0",
        "outputId": "326e786a-257b-410a-a369-c643f99b6418"
      },
      "outputs": [
        {
          "output_type": "stream",
          "name": "stdout",
          "text": [
            "Mounted at /content/drive\n"
          ]
        }
      ],
      "source": [
        "from google.colab import drive\n",
        "drive.mount(\"/content/drive\")"
      ]
    },
    {
      "cell_type": "code",
      "source": [
        "import pandas as pd\n",
        "df=pd.read_csv(\"/content/drive/MyDrive/matchpairsDevTrain.csv\")"
      ],
      "metadata": {
        "id": "F91wxkm61IRf"
      },
      "execution_count": null,
      "outputs": []
    },
    {
      "cell_type": "code",
      "source": [
        "import pandas as pd\n",
        "df=pd.read_csv(\"/content/drive/MyDrive/mismatchpairsDevTrain.csv\")"
      ],
      "metadata": {
        "id": "p6aU-2422Xq_"
      },
      "execution_count": null,
      "outputs": []
    },
    {
      "cell_type": "code",
      "source": [
        "import pandas as pd\n",
        "df=pd.read_csv(\"/content/drive/MyDrive/mismatchpairsDevTest.csv\")"
      ],
      "metadata": {
        "id": "VxqofJrE2fz3"
      },
      "execution_count": null,
      "outputs": []
    },
    {
      "cell_type": "code",
      "source": [
        "import pandas as pd\n",
        "df=pd.read_csv(\"/content/drive/MyDrive/matchpairsDevTest.csv\")"
      ],
      "metadata": {
        "id": "QXyn__CA3kkj"
      },
      "execution_count": null,
      "outputs": []
    },
    {
      "cell_type": "code",
      "source": [
        "import pandas as pd\n",
        "df=pd.read_csv(\"/content/drive/MyDrive/peopleDevTest.csv\")"
      ],
      "metadata": {
        "id": "h6NleYeu4o3B"
      },
      "execution_count": null,
      "outputs": []
    },
    {
      "cell_type": "code",
      "source": [
        "import pandas as pd\n",
        "df=pd.read_csv(\"/content/drive/MyDrive/peopleDevTrain.csv\")"
      ],
      "metadata": {
        "id": "nvOxW4R242WM"
      },
      "execution_count": null,
      "outputs": []
    },
    {
      "cell_type": "code",
      "source": [
        "import pandas as pd\n",
        "df=pd.read_csv(\"/content/drive/MyDrive/people.csv\")"
      ],
      "metadata": {
        "id": "TREdAad15cg1"
      },
      "execution_count": null,
      "outputs": []
    },
    {
      "cell_type": "code",
      "source": [
        "import pandas as pd\n",
        "df=pd.read_csv(\"/content/drive/MyDrive/pairs.csv\")"
      ],
      "metadata": {
        "id": "Mts0RDyt5tW7"
      },
      "execution_count": null,
      "outputs": []
    },
    {
      "cell_type": "code",
      "source": [
        "import pandas as pd\n",
        "df=pd.read_csv(\"/content/drive/MyDrive/lfw_allnames.csv\")"
      ],
      "metadata": {
        "id": "aRSkFnvu5we_"
      },
      "execution_count": null,
      "outputs": []
    },
    {
      "cell_type": "code",
      "source": [
        "import pandas as pd\n",
        "df=pd.read_csv(\"/content/drive/MyDrive/lfw_readme.csv\")"
      ],
      "metadata": {
        "id": "SfZ_00cc56aS"
      },
      "execution_count": null,
      "outputs": []
    },
    {
      "cell_type": "code",
      "source": [
        "# Import necessary libraries\n",
        "from sklearn.model_selection import train_test_split\n",
        "from sklearn.metrics import accuracy_score\n",
        "from sklearn.decomposition import PCA\n",
        "from sklearn.svm import SVC\n",
        "from sklearn.datasets import fetch_lfw_people\n",
        "\n",
        "# Load the LFW dataset\n",
        "lfw_people = fetch_lfw_people(min_faces_per_person=70, resize=0.4)\n",
        "\n",
        "# Features (X) and labels (y)\n",
        "X = lfw_people.data  # Flattened image data\n",
        "y = lfw_people.target  # Target labels (person identities)\n",
        "\n",
        "# Split the dataset into training and test sets\n",
        "X_train, X_test, y_train, y_test = train_test_split(X, y, test_size=0.25, random_state=42)\n",
        "\n",
        "# Perform PCA (Principal Component Analysis) for dimensionality reduction\n",
        "n_components = 150  # Number of principal components\n",
        "pca = PCA(n_components=n_components, whiten=True).fit(X_train)\n",
        "\n",
        "# Apply the PCA transformation\n",
        "X_train_pca = pca.transform(X_train)\n",
        "X_test_pca = pca.transform(X_test)\n",
        "\n",
        "# Train a Support Vector Classifier (SVC) model on the PCA-transformed data\n",
        "clf = SVC(kernel='rbf', class_weight='balanced')\n",
        "clf.fit(X_train_pca, y_train)\n",
        "\n",
        "# Predict on the test set\n",
        "y_pred = clf.predict(X_test_pca)\n",
        "\n",
        "# Calculate the accuracy\n",
        "accuracy = accuracy_score(y_test, y_pred)\n",
        "\n",
        "print(f'Accuracy of the model: {accuracy * 100:.2f}%')\n"
      ],
      "metadata": {
        "id": "e7LuV7hc7FAT",
        "colab": {
          "base_uri": "https://localhost:8080/"
        },
        "outputId": "6d507f43-9f78-49bd-fd58-7fda284b41c7"
      },
      "execution_count": 17,
      "outputs": [
        {
          "output_type": "stream",
          "name": "stdout",
          "text": [
            "Accuracy of the model: 84.47%\n"
          ]
        }
      ]
    }
  ]
}
